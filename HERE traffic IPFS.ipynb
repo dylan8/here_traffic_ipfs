{
 "cells": [
  {
   "cell_type": "code",
   "execution_count": 156,
   "id": "f1dfcbdc",
   "metadata": {},
   "outputs": [],
   "source": [
    "import os\n",
    "import pickle\n",
    "# Gmail API utils\n",
    "from googleapiclient.discovery import build\n",
    "from google_auth_oauthlib.flow import InstalledAppFlow\n",
    "from google.auth.transport.requests import Request\n",
    "# for encoding/decoding messages in base64\n",
    "from base64 import urlsafe_b64decode, urlsafe_b64encode\n",
    "# for dealing with attachement MIME types\n",
    "from email.mime.text import MIMEText\n",
    "from email.mime.multipart import MIMEMultipart\n",
    "from email.mime.image import MIMEImage\n",
    "from email.mime.audio import MIMEAudio\n",
    "from email.mime.base import MIMEBase\n",
    "from mimetypes import guess_type as guess_mime_type\n",
    "import requests\n",
    "import json\n",
    "import simplejson\n",
    "import re\n",
    "import boto3\n",
    "from datetime import date\n",
    "from datetime import datetime, timedelta\n",
    "import ipfsApi\n",
    "import ipfshttpclient\n",
    "import subprocess\n",
    "import folium\n",
    "import pandas as pd\n",
    "from io import StringIO"
   ]
  },
  {
   "cell_type": "code",
   "execution_count": 177,
   "id": "6a843448",
   "metadata": {},
   "outputs": [],
   "source": [
    "date = datetime.utcnow().date()"
   ]
  },
  {
   "cell_type": "code",
   "execution_count": null,
   "id": "bf54c9c0",
   "metadata": {},
   "outputs": [],
   "source": [
    "# Get route data\n",
    "location_dictionary = {'Dublin': {'lat': '53.3470', 'lon': '-6.258394', 'country': 'Ireland'}, \n",
    "                       'Paris': {'lat': '48.849338', 'lon': '2.329523', 'country': 'France'},\n",
    "                       'Berlin': {'lat': '52.506312', 'lon': '13.391077', 'country': 'Germany'},\n",
    "                       'Madrid': {'lat': '40.432026', 'lon': '-3.687545', 'country': 'Spain'},\n",
    "                       'London': {'lat': '51.506414', 'lon': '-0.110954', 'country': 'United Kingdom'}\n",
    "                      }\n",
    "incident_list = []\n",
    "for location in location_dictionary:\n",
    "    lat = location_dictionary.get(location).get('lat')\n",
    "    lon = location_dictionary.get(location).get('lon')\n",
    "    country = location_dictionary.get(location).get('country')\n",
    "    location = location\n",
    "    url = \"https://data.traffic.hereapi.com/v7/incidents?in=circle:{},{};r=2000&locationReferencing=shape&lang=en-US&inc22=0&details=true&apiKey=BRu0LRXmYLe-Im_GKb8zBltxJjGVlXeWDS8LOCNPJLA\".format(lat,lon)\n",
    "    page = requests.get(url)\n",
    "    json_string = page.json()\n",
    "    for i in json_string['results']:\n",
    "        incident_dict = {}\n",
    "        incident_dict['country'] = country\n",
    "        incident_dict['city'] = location\n",
    "        incident = i['incidentDetails']['description']['value']\n",
    "        try:\n",
    "            incident_dict['lat'] = i['location']['shape']['links'][0]['points'][0]['lat']\n",
    "            incident_dict['lon'] = i['location']['shape']['links'][0]['points'][0]['lng']\n",
    "\n",
    "        except:\n",
    "            print('no lat or long')\n",
    "        incident_dict['incident'] = incident\n",
    "        \n",
    "        incident_list.append(incident_dict)\n",
    "    "
   ]
  },
  {
   "cell_type": "code",
   "execution_count": 96,
   "id": "93f9940e",
   "metadata": {},
   "outputs": [],
   "source": [
    "df_incidents = pd.DataFrame(incident_list)\n",
    "df_incidents.to_csv('Traffic_incidents_' + str(date) + '.csv')"
   ]
  },
  {
   "cell_type": "code",
   "execution_count": null,
   "id": "052cac09",
   "metadata": {},
   "outputs": [],
   "source": [
    "# parse data\n",
    "todays_data = dict()\n",
    "for i in json_string['results']:\n",
    "    loc = i['incidentDetails']['description']['value']\n",
    "\n",
    "    if loc in todays_data:\n",
    "        todays_data[loc] += 1\n",
    "    else:\n",
    "        todays_data[loc] = 1"
   ]
  },
  {
   "cell_type": "code",
   "execution_count": null,
   "id": "f27b3c3a",
   "metadata": {},
   "outputs": [],
   "source": [
    "mymap = folium.Map()\n",
    "for location in incident_list:\n",
    "    folium.Marker(\n",
    "    location=[location['lat'], location['lon']],\n",
    "    popup=location['incident']).add_to(mymap)"
   ]
  },
  {
   "cell_type": "code",
   "execution_count": null,
   "id": "0d8a75c3",
   "metadata": {},
   "outputs": [],
   "source": [
    "mymap.save(\"Traffic_incident_map.html\")"
   ]
  },
  {
   "cell_type": "code",
   "execution_count": null,
   "id": "f510fffd",
   "metadata": {},
   "outputs": [],
   "source": [
    "def create_alert(incident_list):\n",
    "    alert_list = []\n",
    "    for alert in incident_list:\n",
    "        incident = alert['incident']\n",
    "        if incident == 'Closed':\n",
    "            incident = 'Road closed'\n",
    "        if ' - ' in incident:\n",
    "            incident_split = incident.split(' - ')\n",
    "            incident = incident_split[1] + ' ' + incident_split[0][0].lower() + incident_split[0][1:]\n",
    "        city = alert['city']\n",
    "        country = alert['country']\n",
    "        alert = incident + ' in ' + city + ', ' + country\n",
    "        alert_list.append(alert)\n",
    "    return alert_list\n",
    "    "
   ]
  },
  {
   "cell_type": "code",
   "execution_count": null,
   "id": "1fc05d55",
   "metadata": {},
   "outputs": [],
   "source": [
    "alert_list = create_alert(incident_list)\n",
    "df = pd.DataFrame (alert_list, columns = ['Traffic Incidents'])\n",
    "result = df.to_html()\n",
    "text_file = open(\"Traffic_Incidents.html\", \"w\")\n",
    "text_file.write(result)\n",
    "text_file.close()"
   ]
  },
  {
   "cell_type": "code",
   "execution_count": null,
   "id": "615422d4",
   "metadata": {},
   "outputs": [],
   "source": []
  },
  {
   "cell_type": "code",
   "execution_count": 98,
   "id": "00050cbc",
   "metadata": {},
   "outputs": [],
   "source": [
    "output = subprocess.check_output([r\"C:\\Program Files\\IPFS Desktop\\resources\\app.asar.unpacked\\node_modules\\go-ipfs\\go-ipfs\\ipfs.exe\",\"add\",r\"C:\\Users\\kearn\\Desktop\\Notebooks\\Here traffic ipfs\\Traffic_incidents_\"+ str(date) + \".csv\"])\n",
    "output = output.decode('utf-8')\n",
    "unique_hashcode = output.split(' ')[1]\n",
    "output_file = subprocess.check_output([r\"C:\\Program Files\\IPFS Desktop\\resources\\app.asar.unpacked\\node_modules\\go-ipfs\\go-ipfs\\ipfs.exe\",\"cat\",unique_hashcode])"
   ]
  },
  {
   "cell_type": "code",
   "execution_count": 99,
   "id": "53b0f41e",
   "metadata": {},
   "outputs": [
    {
     "data": {
      "text/plain": [
       "'added QmRGZ1s1yReikWPwEiFk1zdZiFre5w9Z9znUB1sCD5Qe92 Traffic_incidents_2022-12-03.csv\\n'"
      ]
     },
     "execution_count": 99,
     "metadata": {},
     "output_type": "execute_result"
    }
   ],
   "source": [
    "output"
   ]
  },
  {
   "cell_type": "code",
   "execution_count": 100,
   "id": "bbf53a72",
   "metadata": {},
   "outputs": [
    {
     "data": {
      "text/plain": [
       "'QmRGZ1s1yReikWPwEiFk1zdZiFre5w9Z9znUB1sCD5Qe92'"
      ]
     },
     "execution_count": 100,
     "metadata": {},
     "output_type": "execute_result"
    }
   ],
   "source": [
    "unique_hashcode"
   ]
  },
  {
   "cell_type": "code",
   "execution_count": 147,
   "id": "625f15ca",
   "metadata": {},
   "outputs": [
    {
     "name": "stdout",
     "output_type": "stream",
     "text": [
      "{'2022-12-03': 'QmRGZ1s1yReikWPwEiFk1zdZiFre5w9Z9znUB1sCD5Qe92', '2022/12/02': 'QmRGZ1s1yReikWPwEiFk1zdZiFre5w9Z9znUB1sCD5Qe92'}\n"
     ]
    }
   ],
   "source": [
    "with open(\"hashcodes.txt\", \"r\") as myfile:\n",
    "    contents = myfile.readlines()\n",
    "    hashcodes = json.loads(contents[0])\n",
    "    hashcodes[str(yesterday)] = unique_hashcode\n",
    "    print(hashcodes)"
   ]
  },
  {
   "cell_type": "code",
   "execution_count": 149,
   "id": "66258852",
   "metadata": {},
   "outputs": [],
   "source": [
    "with open(\"hashcodes.txt\", \"w\") as myfile:\n",
    "    myfile.write(json.dumps(hashcodes))"
   ]
  },
  {
   "cell_type": "code",
   "execution_count": 121,
   "id": "f908a212",
   "metadata": {},
   "outputs": [],
   "source": [
    "# with open('hashcodes.txt', 'w') as convert_file:\n",
    "#      convert_file.write(json.dumps(hashcodes))"
   ]
  },
  {
   "cell_type": "code",
   "execution_count": 101,
   "id": "fb50bbb7",
   "metadata": {},
   "outputs": [
    {
     "data": {
      "text/plain": [
       "b\",country,city,lat,lon,incident\\r\\n0,Ireland,Dublin,53.36061003617942,-6.239010030403733,At Talbot Street - Road construction\\r\\n1,Ireland,Dublin,53.337970012798905,-6.255860002711415,At Merrion Row (N11) - Restrictions\\r\\n2,Ireland,Dublin,53.35500002838671,-6.229230025783181,At Church Road - Road construction\\r\\n3,Ireland,Dublin,53.35543002001941,-6.2421400006860495,Road construction\\r\\n4,Ireland,Dublin,53.33830000832677,-6.255630003288388,Closed\\r\\n5,Ireland,Dublin,53.359389966353774,-6.240320038050413,At Fairview Strand - Road construction\\r\\n6,Ireland,Dublin,53.35910003632307,-6.269259983673692,Between Berkeley Road and Upper Dorset Street (N1) - Road construction\\r\\n7,Ireland,Dublin,53.33791997283697,-6.276210006326437,Between Ward's Hill and Ardee Street - Closed\\r\\n8,Ireland,Dublin,53.35569002665579,-6.261259960010648,At Parnell Street - Restrictions\\r\\n9,Ireland,Dublin,53.35580997169018,-6.2609899789094925,At Great Denmark Street - Restrictions\\r\\n10,Ireland,Dublin,53.35698000155389,-6.232629977166653,At East Road - Road construction\\r\\n11,Ireland,Dublin,53.34568999707699,-6.233519967645407,Between Benson Street and Cardiff Lane - Restrictions\\r\\n12,Ireland,Dublin,53.35671002045274,-6.244000028818846,Road construction\\r\\n13,Ireland,Dublin,53.33889001049101,-6.245540035888553,Closed\\r\\n14,Ireland,Dublin,53.34614002145827,-6.240460015833378,At Benson Street - Restrictions\\r\\n15,Ireland,Dublin,53.337970012798905,-6.27860002219677,Between Ardee Street and Ward's Hill - Closed\\r\\n16,Ireland,Dublin,53.35861003026366,-6.241159988567233,At Ossory Road - Restrictions\\r\\n17,Ireland,Dublin,53.35763999260962,-6.264250036329031,Between Upper Dorset Street (N1) and Berkeley Road - Road construction\\r\\n18,Ireland,Dublin,53.35671002045274,-6.244000028818846,At Fairview Strand - Restrictions\\r\\n19,France,Paris,48.83393003605306,2.33322998508811,Closed due to road construction\\r\\n20,France,Paris,48.86528003029525,2.3215399961918592,Closed to through traffic\\r\\n21,France,Paris,48.8404899649322,2.3505699634552,Closed\\r\\n22,France,Paris,48.85750003159046,2.3485999647527933,Closed due to road construction\\r\\n23,France,Paris,48.832739973440766,2.3115399666130543,Closed\\r\\n24,France,Paris,48.84859995916486,2.3462500143796206,Closed to through traffic\\r\\n25,France,Paris,48.86269999668002,2.3373200185596943,Construction work\\r\\n26,France,Paris,48.84979002177715,2.347209993749857,Closed to through traffic\\r\\n27,France,Paris,48.8357499986887,2.345179980620742,Closed\\r\\n28,France,Paris,48.839030005037785,2.349240006878972,Closed\\r\\n29,France,Paris,48.84927000850439,2.3359800036996603,Closed\\r\\n30,France,Paris,48.83880998007953,2.3498200345784426,At Rue Gay-Lussac - Closed\\r\\n31,France,Paris,48.86551002971828,2.321700006723404,At Place de la Concorde - Closed to through traffic\\r\\n32,France,Paris,48.866040017455816,2.3229700326919556,Closed to through traffic\\r\\n33,France,Paris,48.866340005770326,2.3234099987894297,At Place de la Concorde - Rue de Rivoli - Closed\\r\\n34,France,Paris,48.864040011540055,2.321490040048957,Closed to through traffic\\r\\n35,France,Paris,48.866040017455816,2.3229700326919556,Closed\\r\\n36,France,Paris,48.83923997171223,2.3499600123614073,Closed\\r\\n37,France,Paris,48.86211996898055,2.3394999839365482,Construction work\\r\\n38,France,Paris,48.862600000575185,2.3151799757033587,At Quai d'Orsay - Closed\\r\\n39,France,Paris,48.84145002812147,2.349619958549738,Closed\\r\\n40,France,Paris,48.85335995815694,2.367650019004941,Between Place de la Bastille and Tour Saint-Jacques - Closed to through traffic\\r\\n41,France,Paris,48.84123997762799,2.3504800256341696,Closed\\r\\n42,France,Paris,48.86598000302911,2.321950038895011,Closed to through traffic\\r\\n43,France,Paris,48.864040011540055,2.321490040048957,Closed to through traffic\\r\\n44,France,Paris,48.853960018604994,2.336059967055917,Closed to through traffic\\r\\n45,France,Paris,48.85750003159046,2.3485999647527933,Construction work\\r\\n46,France,Paris,48.84780996479094,2.3424299620091915,Closed to through traffic\\r\\n47,France,Paris,48.84146997705102,2.349950037896633,Closed\\r\\n48,France,Paris,48.84083999320865,2.3496300168335438,Closed\\r\\n49,France,Paris,48.853600015863776,2.349260039627552,Closed\\r\\n50,France,Paris,48.83344002999365,2.332809967920184,At Place Denfert-Rochereau - Road construction\\r\\n51,France,Paris,48.866530023515224,2.3218699917197227,Between Place de la Concorde and Place de la Madeleine - Construction work\\r\\n52,Germany,Berlin,52.49282003380358,13.38752000592649,Between Platz der Luftbr\\xc3\\xbccke and Tempelhofer Damm - Construction work\\r\\n53,Germany,Berlin,52.50579002313316,13.354330016300082,At Potsdamer Stra\\xc3\\x9fe - Construction work\\r\\n54,Germany,Berlin,52.50510999932885,13.37200996465981,Between George-C.-Marshall-Br\\xc3\\xbccke and S\\xc3\\xbcd - Road maintenance operations\\r\\n55,Germany,Berlin,52.517749993130565,13.376880018040538,At Dorotheenstra\\xc3\\x9fe - Closed due to road construction\\r\\n56,Germany,Berlin,52.498970003798604,13.38535001501441,Closed due to road construction\\r\\n57,Germany,Berlin,52.505160039290786,13.40528997592628,At Lindenstra\\xc3\\x9fe - Roadway reduced to one lane\\r\\n58,Germany,Berlin,52.51445003785193,13.384760012850165,Closed due to road construction\\r\\n59,Germany,Berlin,52.50448998995125,13.382219960913062,Construction work\\r\\n60,Germany,Berlin,52.51340003684163,13.406690005213022,At Gertraudenstra\\xc3\\x9fe - Roadway reduced to one lane\\r\\n61,Germany,Berlin,52.52391002140939,13.387780012562871,At Oranienburger Stra\\xc3\\x9fe - Closed due to road construction\\r\\n62,Germany,Berlin,52.49874000437558,13.380220038816333,At Hallesches Ufer - Roadway reduced to one lane\\r\\n63,Germany,Berlin,52.51649999991059,13.408690011128783,At Alexanderstra\\xc3\\x9fe - Closed due to road construction\\r\\n64,Germany,Berlin,52.51705002039671,13.4092400316149,At Stralauer Stra\\xc3\\x9fe - Closed due to road construction\\r\\n65,Germany,Berlin,52.52388001419604,13.387610027566552,At Reinhardtstra\\xc3\\x9fe - Road construction\\r\\n66,Germany,Berlin,52.51807998865843,13.38045003823936,At Dorotheenstra\\xc3\\x9fe - Road construction\\r\\n67,Germany,Berlin,52.49119000509381,13.396960040554404,At Mehringdamm - Road construction. Roadway reduced to one lane\\r\\n68,Germany,Berlin,52.49378001317382,13.40281999669969,Road construction\\r\\n69,Germany,Berlin,52.52825000323355,13.368080025538802,Between Nord and Kemperplatz - Road maintenance operations\\r\\n70,Germany,Berlin,52.51279997639358,13.411529967561364,At Heinrich-Heine-Stra\\xc3\\x9fe - Road construction. Roadway reduced to one lane\\r\\n71,Germany,Berlin,52.500689970329404,13.385870028287172,Closed due to road construction\\r\\n72,Germany,Berlin,52.51738001592457,13.408569982275367,At Karl-Liebknecht-Stra\\xc3\\x9fe - Narrow lanes\\r\\n73,Germany,Berlin,52.52713001333177,13.386969985440373,Between Torstra\\xc3\\x9fe and Reinhardtstra\\xc3\\x9fe - Closed due to road construction\\r\\n74,Germany,Berlin,52.51583003439009,13.407919965684414,At Stralauer Stra\\xc3\\x9fe - Construction work\\r\\n75,Germany,Berlin,52.51102996990085,13.416470009833574,At Inselstra\\xc3\\x9fe - Road construction. Roadway reduced to one lane\\r\\n76,Germany,Berlin,52.51698003150523,13.414330026134849,Closed due to road construction\\r\\n77,Germany,Berlin,52.51695999875665,13.410469992086291,Roadway reduced to one lane\\r\\n78,Germany,Berlin,52.5163699965924,13.380850022658706,Closed\\r\\n79,Germany,Berlin,52.49811999499798,13.396470034494996,At Prinzenstra\\xc3\\x9fe - Roadway reduced to one lane\\r\\n80,Germany,Berlin,52.49023002572358,13.400310035794973,Road construction\\r\\n81,Germany,Berlin,52.51705002039671,13.4092400316149,At M\\xc3\\xbchlendamm - Closed due to road construction\\r\\n82,Germany,Berlin,52.50319004058838,13.395430007949471,At Oranienstra\\xc3\\x9fe - Road construction. Roadway reduced to one lane\\r\\n83,Germany,Berlin,52.51676998101175,13.408799981698394,Between Alexanderstra\\xc3\\x9fe and Stralauer Stra\\xc3\\x9fe - Closed due to road construction\\r\\n84,Germany,Berlin,52.498479997739196,13.407579995691776,At Prinzenstra\\xc3\\x9fe - Roadway reduced to one lane\\r\\n85,Germany,Berlin,52.51328998245299,13.37015999481082,Closed\\r\\n86,Germany,Berlin,52.51724003814161,13.41240000911057,Closed due to road construction\\r\\n87,Germany,Berlin,52.49841000884771,13.399609979242086,At Zossener Stra\\xc3\\x9fe - Roadway reduced to one lane\\r\\n88,Germany,Berlin,52.51458004117012,13.386219972744584,Closed due to road construction\\r\\n89,Germany,Berlin,52.51643001101911,13.409059988334775,At M\\xc3\\xbchlendamm - Closed due to road construction\\r\\n90,Germany,Berlin,52.504429975524545,13.407960031181574,At Lindenstra\\xc3\\x9fe - Construction work\\r\\n91,Germany,Berlin,52.519599962979555,13.405319983139634,At M\\xc3\\xbchlendamm - Narrow lanes\\r\\n92,Germany,Berlin,52.51514003612101,13.381489980965853,Closed\\r\\n93,Germany,Berlin,52.505160039290786,13.40528997592628,At Moritzplatz - Roadway reduced to one lane\\r\\n94,Germany,Berlin,52.517879996448755,13.4096700232476,Closed\\r\\n95,Germany,Berlin,52.51370002515614,13.386390041559935,Closed due to road construction\\r\\n96,Germany,Berlin,52.513600029051304,13.385099982842803,Closed due to road construction\\r\\n97,Spain,Madrid,40.441280007362366,-3.694249978289008,At Calle de Agust\\xc3\\xadn de Betancourt/Calle de R\\xc3\\xados Rosas - Construction work\\r\\n98,Spain,Madrid,40.44883000664413,-3.678480014204979,At Calle de Serrano - Road maintenance operations\\r\\n99,Spain,Madrid,40.43494999408722,-3.6748400051146746,Closed\\r\\n100,Spain,Madrid,40.43317001312971,-3.7041100300848484,At Glorieta de Bilbao/Calle de Luchana - Closed\\r\\n101,Spain,Madrid,40.443940004333854,-3.704450000077486,Closed to through traffic\\r\\n102,Spain,Madrid,40.437409998849034,-3.67291996255517,Closed due to road construction\\r\\n103,Spain,Madrid,40.44547003693879,-3.704270040616393,Closed to through traffic\\r\\n104,Spain,Madrid,40.43018002063036,-3.7028099969029427,At Glorieta de Quevedo/Calle de Eloy Gonzalo - Closed\\r\\n105,United Kingdom,London,51.50466003455222,-0.12638996355235577,At Vauxhall Bridge North - Closed\\r\\n106,United Kingdom,London,51.5039199963212,-0.09459002874791622,At Southwark - Road construction\\r\\n107,United Kingdom,London,51.51133001782,-0.12522999197244644,Road construction\\r\\n108,United Kingdom,London,51.51966003701091,-0.12089998461306095,Road construction\\r\\n109,United Kingdom,London,51.502790031954646,-0.1000400260090828,Closed due to road construction\\r\\n110,United Kingdom,London,51.51035998016596,-0.12410002760589123,Closed\\r\\n111,United Kingdom,London,51.51354996487498,-0.08908001706004143,Road construction\\r\\n112,United Kingdom,London,51.51402999646962,-0.10740998201072216,Road construction\\r\\n113,United Kingdom,London,51.50817004032433,-0.10257999412715435,Closed due to road construction\\r\\n114,United Kingdom,London,51.51196997612715,-0.12372996658086777,Road construction\\r\\n115,United Kingdom,London,51.50471996515989,-0.12313996441662312,Closed\\r\\n116,United Kingdom,London,51.49909998290241,-0.13812999241054058,At Sw1 - Road construction\\r\\n117,United Kingdom,London,51.51593000628054,-0.10897999629378319,Closed due to road construction\\r\\n118,United Kingdom,London,51.49304003454745,-0.09886999614536762,Road construction\\r\\n119,United Kingdom,London,51.50595998391509,-0.09033998474478722,Road construction\\r\\n120,United Kingdom,London,51.50989000685513,-0.08826001547276974,At Tower Bridge - Road construction\\r\\n121,United Kingdom,London,51.51921001262963,-0.1212699618190527,Gas pipeline work\\r\\n122,United Kingdom,London,51.50309999473393,-0.10136998258531094,Road construction\\r\\n123,United Kingdom,London,51.51376001536846,-0.12332000769674778,At B402/Long Acre - Road construction\\r\\n124,United Kingdom,London,51.5055900067091,-0.10563000105321407,Closed due to road construction\\r\\n125,United Kingdom,London,51.50585001334548,-0.1308399997651577,Closed due to road construction\\r\\n126,United Kingdom,London,51.50030999444425,-0.12611998245120049,At Vauxhall Bridge North - Closed due to road construction\\r\\n127,United Kingdom,London,51.512499963864684,-0.11580999009311199,Closed\\r\\n128,United Kingdom,London,51.49971001781523,-0.13199997134506702,Closed due to road construction\\r\\n129,United Kingdom,London,51.51196997612715,-0.12372996658086777,Closed due to road construction\\r\\n130,United Kingdom,London,51.497740019112825,-0.1257100235670805,At Trafalgar Square - Road construction\\r\\n131,United Kingdom,London,51.50641000829637,-0.1024000346660614,Closed due to road construction\\r\\n132,United Kingdom,London,51.50099999271333,-0.10156997479498386,Closed due to road construction\\r\\n133,United Kingdom,London,51.50217002257705,-0.10228000581264496,Closed due to road construction\\r\\n134,United Kingdom,London,51.51337000541389,-0.08891003206372261,Road construction\\r\\n135,United Kingdom,London,51.51694002561271,-0.12686999514698982,Between Leicester Square and Bloomsbury - Gas pipeline work\\r\\n136,United Kingdom,London,51.50522002950311,-0.10555003769695759,Closed due to road construction\\r\\n137,United Kingdom,London,51.49968998506665,-0.13054998591542244,Closed due to road construction\\r\\n138,United Kingdom,London,51.5055900067091,-0.10563000105321407,Road construction\\r\\n139,United Kingdom,London,51.51103002950549,-0.09627001360058784,Closed due to road construction\\r\\n140,United Kingdom,London,51.51038001291454,-0.08721998892724514,Closed due to road construction\\r\\n141,United Kingdom,London,51.51104997843504,-0.09236999787390232,Closed due to road construction\\r\\n142,United Kingdom,London,51.50693999603391,-0.10818002745509148,At Waterloo - Road construction\\r\\n143,United Kingdom,London,51.51934001594782,-0.12053998187184334,Road construction\\r\\n144,United Kingdom,London,51.510310024023056,-0.08686996065080166,Closed due to road construction\\r\\n145,United Kingdom,London,51.51603997685015,-0.09859004057943821,Closed\\r\\n146,United Kingdom,London,51.4975100196898,-0.13562003150582314,At Sw1 - Road construction\\r\\n147,United Kingdom,London,51.512050023302436,-0.1205000001937151,Closed due to road construction\\r\\n148,United Kingdom,London,51.512649999931455,-0.09515002369880676,Road construction\\r\\n149,United Kingdom,London,51.516150031238794,-0.09857000783085823,Closed\\r\\n150,United Kingdom,London,51.50217002257705,-0.10228000581264496,Closed due to road construction\\r\\n151,United Kingdom,London,51.51022997684777,-0.08799003437161446,Closed due to road construction\\r\\n152,United Kingdom,London,51.50119001045823,-0.09328002110123634,At Eastcheap - Road construction\\r\\n153,United Kingdom,London,51.513230027630925,-0.09487995877861977,Road construction\\r\\n154,United Kingdom,London,51.49193001911044,-0.0948600098490715,Closed due to road construction\\r\\n155,United Kingdom,London,51.512480014935136,-0.10422997176647186,At Blackfriers Bridge - Road construction\\r\\n156,United Kingdom,London,51.50966998189688,-0.08672000840306282,At Southwark Bridge - Road construction\\r\\n157,United Kingdom,London,51.50214998982847,-0.10250003077089787,Closed due to road construction\\r\\n158,United Kingdom,London,51.51156001724303,-0.1262300368398428,Closed due to road construction\\r\\n159,United Kingdom,London,51.50733000598848,-0.1377799641340971,Road construction\\r\\n160,United Kingdom,London,51.50760996155441,-0.1299599837511778,Closed due to road construction\\r\\n161,United Kingdom,London,51.51025000959635,-0.12439004145562649,Closed due to road construction\\r\\n162,United Kingdom,London,51.51445998810232,-0.12303996831178665,Closed due to road construction\\r\\n163,United Kingdom,London,51.51770998723805,-0.10897002182900906,Closed due to road construction\\r\\n164,United Kingdom,London,51.50073001161218,-0.10120997205376625,Closed due to road construction\\r\\n165,United Kingdom,London,51.50483999401331,-0.126449977979064,Closed\\r\\n166,United Kingdom,London,51.50706002488732,-0.09532000869512558,Road construction\\r\\n167,United Kingdom,London,51.507109981030226,-0.10733999311923981,Road construction\\r\\n168,United Kingdom,London,51.512540029361844,-0.125380028039217,Closed due to road construction\\r\\n169,United Kingdom,London,51.51100002229214,-0.09577003307640553,Road construction\\r\\n170,United Kingdom,London,51.503090020269156,-0.10005000047385693,Road construction\\r\\n171,United Kingdom,London,51.51140998117626,-0.12558002024888992,Closed due to road construction\\r\\n172,United Kingdom,London,51.51133001782,-0.12522999197244644,Closed due to road construction\\r\\n173,United Kingdom,London,51.50523000396788,-0.10448997840285301,Closed due to road construction\\r\\n174,United Kingdom,London,51.51648002676666,-0.08771996945142746,Closed\\r\\n175,United Kingdom,London,51.50546000339091,-0.10064997710287571,Road construction\\r\\n176,United Kingdom,London,51.51603997685015,-0.11098000220954418,Closed due to road construction\\r\\n177,United Kingdom,London,51.5170700289309,-0.10907999239861965,Closed due to road construction\\r\\n178,United Kingdom,London,51.49141000583768,-0.0962300319224596,Closed due to road construction\\r\\n179,United Kingdom,London,51.50555002503097,-0.10100997984409332,Road construction\\r\\n180,United Kingdom,London,51.50615997612476,-0.090279970318079,Road construction\\r\\n181,United Kingdom,London,51.501499973237514,-0.09296000003814697,At Kennington - Road construction\\r\\n182,United Kingdom,London,51.51419000700116,-0.09446999989449978,Closed due to road construction\\r\\n183,United Kingdom,London,51.51415999978781,-0.1044000405818224,At A3211 at City - Closed due to road construction\\r\\n184,United Kingdom,London,51.50585001334548,-0.1308399997651577,Closed\\r\\n185,United Kingdom,London,51.50992998853326,-0.11816002428531647,Road construction\\r\\n186,United Kingdom,London,51.513189962133765,-0.11750003322958946,Road construction\\r\\n187,United Kingdom,London,51.50723000988364,-0.1311399880796671,Closed due to road construction\\r\\n188,United Kingdom,London,51.489960020408034,-0.09674996137619019,At A3 at Elephant And Castle - Road construction\\r\\n189,United Kingdom,London,51.50211000815034,-0.10287000797688961,Closed due to road construction\\r\\n190,United Kingdom,London,51.50713998824358,-0.09580004028975964,Road construction\\r\\n191,United Kingdom,London,51.50716002099216,-0.12784003280103207,Closed due to road construction\\r\\n192,United Kingdom,London,51.50555002503097,-0.10100997984409332,Road construction\\r\\n193,United Kingdom,London,51.491059977561235,-0.09745999239385128,At A202 at Albany Road - Road construction\\r\\n194,United Kingdom,London,51.50585001334548,-0.1308399997651577,Closed\\r\\n195,United Kingdom,London,51.51501998305321,-0.12542000971734524,At A40/St Giles High Street - Road construction\\r\\n196,United Kingdom,London,51.514290003106,-0.1242300309240818,At B402/Long Acre - Road construction\\r\\n197,United Kingdom,London,51.507000010460615,-0.12811001390218735,Closed due to road construction\\r\\n198,United Kingdom,London,51.503710029646754,-0.09997003711760044,Closed due to road construction\\r\\n199,United Kingdom,London,51.504549980163574,-0.11387997306883335,At Waterloo - Gas pipeline work\\r\\n200,United Kingdom,London,51.51196997612715,-0.12030000798404217,Closed due to road construction\\r\\n201,United Kingdom,London,51.52160002849996,-0.10884001851081848,At Ec1 - Road maintenance operations\\r\\n202,United Kingdom,London,51.518000001087785,-0.13171004131436348,At A501 at Euston Road - Road construction\\r\\n203,United Kingdom,London,51.51182002387941,-0.12715003453195095,At Covent Garden - Road construction\\r\\n204,United Kingdom,London,51.51097001507878,-0.09509998373687267,Road construction\\r\\n205,United Kingdom,London,51.509620025753975,-0.08640996180474758,Closed due to road construction\\r\\n206,United Kingdom,London,51.50555002503097,-0.10589000768959522,Road construction\\r\\n207,United Kingdom,London,51.49971001781523,-0.13225000351667404,Closed due to road construction\\r\\n\""
      ]
     },
     "execution_count": 101,
     "metadata": {},
     "output_type": "execute_result"
    }
   ],
   "source": [
    "output_file"
   ]
  },
  {
   "cell_type": "code",
   "execution_count": null,
   "id": "b39c9dcb",
   "metadata": {},
   "outputs": [],
   "source": [
    "our_email = 'kearns.dylan@gmail.com'\n",
    "SCOPES = ['https://mail.google.com/']"
   ]
  },
  {
   "cell_type": "code",
   "execution_count": null,
   "id": "1f16a868",
   "metadata": {},
   "outputs": [],
   "source": [
    "def gmail_authenticate():\n",
    "    creds = None\n",
    "    # the file token.pickle stores the user's access and refresh tokens, and is\n",
    "    # created automatically when the authorization flow completes for the first time\n",
    "    if os.path.exists(\"token.pickle\"):\n",
    "        with open(\"token.pickle\", \"rb\") as token:\n",
    "            creds = pickle.load(token)\n",
    "    # if there are no (valid) credentials availablle, let the user log in.\n",
    "    if not creds or not creds.valid:\n",
    "        if creds and creds.expired and creds.refresh_token:\n",
    "            creds.refresh(Request())\n",
    "        else:\n",
    "            flow = InstalledAppFlow.from_client_secrets_file('credentials.json', SCOPES)\n",
    "            creds = flow.run_local_server(port=0)\n",
    "        # save the credentials for the next run\n",
    "        with open(\"token.pickle\", \"wb\") as token:\n",
    "            pickle.dump(creds, token)\n",
    "    return build('gmail', 'v1', credentials=creds)\n",
    "\n",
    "# get the Gmail API service\n",
    "service = gmail_authenticate()"
   ]
  },
  {
   "cell_type": "code",
   "execution_count": null,
   "id": "1402be1a",
   "metadata": {},
   "outputs": [],
   "source": [
    "def add_attachment(message, filename):\n",
    "    content_type, encoding = guess_mime_type(filename)\n",
    "    if content_type is None or encoding is not None:\n",
    "        content_type = 'application/octet-stream'\n",
    "    main_type, sub_type = content_type.split('/', 1)\n",
    "    print(main_type)\n",
    "    if main_type == 'text':\n",
    "        fp = open(filename, 'rb')\n",
    "        msg = MIMEText(fp.read().decode(), _subtype=sub_type)\n",
    "        fp.close()\n",
    "    elif main_type == 'image':\n",
    "        fp = open(filename, 'rb')\n",
    "        msg = MIMEImage(fp.read(), _subtype=sub_type)\n",
    "        fp.close()\n",
    "    elif main_type == 'audio':\n",
    "        fp = open(filename, 'rb')\n",
    "        msg = MIMEAudio(fp.read(), _subtype=sub_type)\n",
    "        fp.close()\n",
    "    elif main_type == 'application':\n",
    "        fp = open(filename, 'rb')\n",
    "        msg = MIMEAudio(fp.read(), _subtype=sub_type)\n",
    "        fp.close() \n",
    "    \n",
    "    else:\n",
    "        fp = open(filename, 'rb')\n",
    "        msg = MIMEBase(main_type, sub_type)\n",
    "        msg.set_payload(fp.read())\n",
    "        fp.close()\n",
    "    filename = os.path.basename(filename)\n",
    "    msg.add_header('Content-Disposition', 'attachment', filename=filename)\n",
    "    message.attach(msg)"
   ]
  },
  {
   "cell_type": "code",
   "execution_count": null,
   "id": "dbdd6cb3",
   "metadata": {},
   "outputs": [],
   "source": [
    "def build_message(destination, obj, body, attachments=[]):\n",
    "    if not attachments: # no attachments given\n",
    "        message = MIMEText(body)\n",
    "        message['to'] = destination\n",
    "        message['from'] = our_email\n",
    "        message['subject'] = obj\n",
    "    else:\n",
    "        message = MIMEMultipart()\n",
    "        message['to'] = destination\n",
    "        message['from'] = our_email\n",
    "        message['subject'] = obj\n",
    "        message.attach(MIMEText(body))\n",
    "        for filename in attachments:\n",
    "            add_attachment(message, filename)\n",
    "    return {'raw': urlsafe_b64encode(message.as_bytes()).decode()}"
   ]
  },
  {
   "cell_type": "code",
   "execution_count": null,
   "id": "b1a2ccd8",
   "metadata": {},
   "outputs": [],
   "source": [
    "def send_message(service, destination, obj, body, attachments=[]):\n",
    "    return service.users().messages().send(\n",
    "      userId=\"me\",\n",
    "      body=build_message(destination, obj, body, attachments)\n",
    "    ).execute()"
   ]
  },
  {
   "cell_type": "code",
   "execution_count": null,
   "id": "abe8e2ca",
   "metadata": {},
   "outputs": [],
   "source": [
    "# for email in emails:\n",
    "send_message(service, \"kearns.dylan@gmail.com\", 'Traffic incidents ' + str(date), \n",
    "'Please find the traffic alerts for today' , ['Traffic_Incidents.html','Traffic_incident_map.html'])"
   ]
  },
  {
   "cell_type": "code",
   "execution_count": 106,
   "id": "1fff39ae",
   "metadata": {},
   "outputs": [],
   "source": [
    "yesterday = date - timedelta(days = 1)"
   ]
  },
  {
   "cell_type": "code",
   "execution_count": 117,
   "id": "37866378",
   "metadata": {},
   "outputs": [],
   "source": [
    "yesterday = yesterday.strftime(\"%Y/%m/%d\")"
   ]
  },
  {
   "cell_type": "code",
   "execution_count": 118,
   "id": "f9a33bde",
   "metadata": {},
   "outputs": [
    {
     "data": {
      "text/plain": [
       "'2022/12/02'"
      ]
     },
     "execution_count": 118,
     "metadata": {},
     "output_type": "execute_result"
    }
   ],
   "source": [
    "yesterday"
   ]
  },
  {
   "cell_type": "code",
   "execution_count": 151,
   "id": "00271c15",
   "metadata": {},
   "outputs": [],
   "source": [
    "with open(\"hashcodes.txt\", \"r\") as myfile:\n",
    "    contents = myfile.readlines()\n",
    "    hashcodes_two = json.loads(contents[0])"
   ]
  },
  {
   "cell_type": "code",
   "execution_count": 153,
   "id": "e5db3863",
   "metadata": {},
   "outputs": [],
   "source": [
    "yesterday_hash = hashcodes_two.get(yesterday)\n",
    "yesterday_output_file = subprocess.check_output([r\"C:\\Program Files\\IPFS Desktop\\resources\\app.asar.unpacked\\node_modules\\go-ipfs\\go-ipfs\\ipfs.exe\",\"cat\",yesterday_hash])"
   ]
  },
  {
   "cell_type": "code",
   "execution_count": 157,
   "id": "bcbbc37d",
   "metadata": {},
   "outputs": [],
   "source": [
    "s=str(yesterday_output_file,'utf-8')\n",
    "\n",
    "data = StringIO(s) \n",
    "\n",
    "df_yesterday=pd.read_csv(data)"
   ]
  },
  {
   "cell_type": "code",
   "execution_count": 163,
   "id": "8a9c64f8",
   "metadata": {},
   "outputs": [],
   "source": [
    "df_yesterday = df_yesterday.drop(columns = ['Unnamed: 0'])"
   ]
  },
  {
   "cell_type": "code",
   "execution_count": 166,
   "id": "3d1193a8",
   "metadata": {},
   "outputs": [
    {
     "data": {
      "text/html": [
       "<div>\n",
       "<style scoped>\n",
       "    .dataframe tbody tr th:only-of-type {\n",
       "        vertical-align: middle;\n",
       "    }\n",
       "\n",
       "    .dataframe tbody tr th {\n",
       "        vertical-align: top;\n",
       "    }\n",
       "\n",
       "    .dataframe thead th {\n",
       "        text-align: right;\n",
       "    }\n",
       "</style>\n",
       "<table border=\"1\" class=\"dataframe\">\n",
       "  <thead>\n",
       "    <tr style=\"text-align: right;\">\n",
       "      <th></th>\n",
       "      <th>country</th>\n",
       "      <th>city</th>\n",
       "      <th>lat</th>\n",
       "      <th>lon</th>\n",
       "      <th>incident</th>\n",
       "    </tr>\n",
       "  </thead>\n",
       "  <tbody>\n",
       "    <tr>\n",
       "      <th>0</th>\n",
       "      <td>Ireland</td>\n",
       "      <td>Dublin</td>\n",
       "      <td>53.36061</td>\n",
       "      <td>-6.23901</td>\n",
       "      <td>At Talbot Street - Road construction</td>\n",
       "    </tr>\n",
       "    <tr>\n",
       "      <th>1</th>\n",
       "      <td>Ireland</td>\n",
       "      <td>Dublin</td>\n",
       "      <td>53.33797</td>\n",
       "      <td>-6.25586</td>\n",
       "      <td>At Merrion Row (N11) - Restrictions</td>\n",
       "    </tr>\n",
       "    <tr>\n",
       "      <th>2</th>\n",
       "      <td>Ireland</td>\n",
       "      <td>Dublin</td>\n",
       "      <td>53.35500</td>\n",
       "      <td>-6.22923</td>\n",
       "      <td>At Church Road - Road construction</td>\n",
       "    </tr>\n",
       "    <tr>\n",
       "      <th>3</th>\n",
       "      <td>Ireland</td>\n",
       "      <td>Dublin</td>\n",
       "      <td>53.35543</td>\n",
       "      <td>-6.24214</td>\n",
       "      <td>Road construction</td>\n",
       "    </tr>\n",
       "    <tr>\n",
       "      <th>4</th>\n",
       "      <td>Ireland</td>\n",
       "      <td>Dublin</td>\n",
       "      <td>53.33830</td>\n",
       "      <td>-6.25563</td>\n",
       "      <td>Closed</td>\n",
       "    </tr>\n",
       "  </tbody>\n",
       "</table>\n",
       "</div>"
      ],
      "text/plain": [
       "   country    city       lat      lon                              incident\n",
       "0  Ireland  Dublin  53.36061 -6.23901  At Talbot Street - Road construction\n",
       "1  Ireland  Dublin  53.33797 -6.25586   At Merrion Row (N11) - Restrictions\n",
       "2  Ireland  Dublin  53.35500 -6.22923    At Church Road - Road construction\n",
       "3  Ireland  Dublin  53.35543 -6.24214                     Road construction\n",
       "4  Ireland  Dublin  53.33830 -6.25563                                Closed"
      ]
     },
     "execution_count": 166,
     "metadata": {},
     "output_type": "execute_result"
    }
   ],
   "source": [
    "sample = df_yesterday.head(5)"
   ]
  },
  {
   "cell_type": "code",
   "execution_count": 173,
   "id": "9a929290",
   "metadata": {},
   "outputs": [],
   "source": [
    "intersection_df = pd.merge(sample, df_incidents, how ='inner', on =['lat', 'lon'])\n",
    "intersection_df = intersection_df.drop(columns=['incident_y','country_y', 'city_y'])\n",
    "intersection_df = intersection_df.rename(columns={\"country_x\": \"country\", \"city_x\": \"city\", \"incident_x\": \"incident\"})"
   ]
  },
  {
   "cell_type": "code",
   "execution_count": 175,
   "id": "0d966490",
   "metadata": {},
   "outputs": [],
   "source": [
    "# intersection_df.to_csv('Traffic_incidents_tracking.csv', index=False)"
   ]
  },
  {
   "cell_type": "code",
   "execution_count": 176,
   "id": "5179d986",
   "metadata": {},
   "outputs": [
    {
     "data": {
      "text/html": [
       "<div>\n",
       "<style scoped>\n",
       "    .dataframe tbody tr th:only-of-type {\n",
       "        vertical-align: middle;\n",
       "    }\n",
       "\n",
       "    .dataframe tbody tr th {\n",
       "        vertical-align: top;\n",
       "    }\n",
       "\n",
       "    .dataframe thead th {\n",
       "        text-align: right;\n",
       "    }\n",
       "</style>\n",
       "<table border=\"1\" class=\"dataframe\">\n",
       "  <thead>\n",
       "    <tr style=\"text-align: right;\">\n",
       "      <th></th>\n",
       "      <th>country_x</th>\n",
       "      <th>city_x</th>\n",
       "      <th>lat</th>\n",
       "      <th>lon</th>\n",
       "      <th>incident_x</th>\n",
       "      <th>country_y</th>\n",
       "      <th>city_y</th>\n",
       "      <th>incident_y</th>\n",
       "    </tr>\n",
       "  </thead>\n",
       "  <tbody>\n",
       "    <tr>\n",
       "      <th>0</th>\n",
       "      <td>Ireland</td>\n",
       "      <td>Dublin</td>\n",
       "      <td>53.36061</td>\n",
       "      <td>-6.23901</td>\n",
       "      <td>At Talbot Street - Road construction</td>\n",
       "      <td>Ireland</td>\n",
       "      <td>Dublin</td>\n",
       "      <td>At Talbot Street - Road construction</td>\n",
       "    </tr>\n",
       "    <tr>\n",
       "      <th>1</th>\n",
       "      <td>Ireland</td>\n",
       "      <td>Dublin</td>\n",
       "      <td>53.33797</td>\n",
       "      <td>-6.25586</td>\n",
       "      <td>At Merrion Row (N11) - Restrictions</td>\n",
       "      <td>Ireland</td>\n",
       "      <td>Dublin</td>\n",
       "      <td>At Merrion Row (N11) - Restrictions</td>\n",
       "    </tr>\n",
       "    <tr>\n",
       "      <th>2</th>\n",
       "      <td>Ireland</td>\n",
       "      <td>Dublin</td>\n",
       "      <td>53.35500</td>\n",
       "      <td>-6.22923</td>\n",
       "      <td>At Church Road - Road construction</td>\n",
       "      <td>Ireland</td>\n",
       "      <td>Dublin</td>\n",
       "      <td>At Church Road - Road construction</td>\n",
       "    </tr>\n",
       "    <tr>\n",
       "      <th>3</th>\n",
       "      <td>Ireland</td>\n",
       "      <td>Dublin</td>\n",
       "      <td>53.35543</td>\n",
       "      <td>-6.24214</td>\n",
       "      <td>Road construction</td>\n",
       "      <td>Ireland</td>\n",
       "      <td>Dublin</td>\n",
       "      <td>Road construction</td>\n",
       "    </tr>\n",
       "    <tr>\n",
       "      <th>4</th>\n",
       "      <td>Ireland</td>\n",
       "      <td>Dublin</td>\n",
       "      <td>53.33830</td>\n",
       "      <td>-6.25563</td>\n",
       "      <td>Closed</td>\n",
       "      <td>Ireland</td>\n",
       "      <td>Dublin</td>\n",
       "      <td>Closed</td>\n",
       "    </tr>\n",
       "  </tbody>\n",
       "</table>\n",
       "</div>"
      ],
      "text/plain": [
       "  country_x  city_x       lat      lon                            incident_x  \\\n",
       "0   Ireland  Dublin  53.36061 -6.23901  At Talbot Street - Road construction   \n",
       "1   Ireland  Dublin  53.33797 -6.25586   At Merrion Row (N11) - Restrictions   \n",
       "2   Ireland  Dublin  53.35500 -6.22923    At Church Road - Road construction   \n",
       "3   Ireland  Dublin  53.35543 -6.24214                     Road construction   \n",
       "4   Ireland  Dublin  53.33830 -6.25563                                Closed   \n",
       "\n",
       "  country_y  city_y                            incident_y  \n",
       "0   Ireland  Dublin  At Talbot Street - Road construction  \n",
       "1   Ireland  Dublin   At Merrion Row (N11) - Restrictions  \n",
       "2   Ireland  Dublin    At Church Road - Road construction  \n",
       "3   Ireland  Dublin                     Road construction  \n",
       "4   Ireland  Dublin                                Closed  "
      ]
     },
     "execution_count": 176,
     "metadata": {},
     "output_type": "execute_result"
    }
   ],
   "source": [
    "traffic_incidents_tracking_df = pd.read_csv('Traffic_incidents_tracking.csv')\n",
    "traffic_incidents_tracking_intersection_df = pd.merge(traffic_incidents_tracking_df, intersection_df, how ='inner', on =['lat', 'lon'])\n",
    "traffic_incidents_tracking_intersection_df = traffic_incidents_tracking_intersection_df.drop(columns=['incident_y','country_y', 'city_y'])\n",
    "traffic_incidents_tracking_intersection_df = traffic_incidents_tracking_intersection_df.rename(columns={\"country_x\": \"country\", \"city_x\": \"city\", \"incident_x\": \"incident\"})"
   ]
  },
  {
   "cell_type": "code",
   "execution_count": null,
   "id": "d8f2db2e",
   "metadata": {},
   "outputs": [],
   "source": [
    "traffic_incidents_tracking_intersection_df.to_csv('Traffic_incidents_tracking.csv', index=False)"
   ]
  }
 ],
 "metadata": {
  "kernelspec": {
   "display_name": "Python 3",
   "language": "python",
   "name": "python3"
  },
  "language_info": {
   "codemirror_mode": {
    "name": "ipython",
    "version": 3
   },
   "file_extension": ".py",
   "mimetype": "text/x-python",
   "name": "python",
   "nbconvert_exporter": "python",
   "pygments_lexer": "ipython3",
   "version": "3.8.8"
  }
 },
 "nbformat": 4,
 "nbformat_minor": 5
}
